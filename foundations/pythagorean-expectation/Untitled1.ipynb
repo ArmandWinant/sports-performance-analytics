{
 "cells": [
  {
   "cell_type": "code",
   "execution_count": 1,
   "id": "5b2baa18",
   "metadata": {},
   "outputs": [],
   "source": [
    "import pandas as pd\n",
    "import numpy as np\n",
    "import psycopg2\n",
    "from sklearn.metrics import mean_squared_error, mean_absolute_error\n",
    "from scipy.optimize import minimize\n",
    "pd.set_option('mode.chained_assignment', None)\n",
    "import seaborn as sns\n",
    "import matplotlib.pyplot as plt"
   ]
  },
  {
   "cell_type": "code",
   "execution_count": 2,
   "id": "b1e7726c",
   "metadata": {},
   "outputs": [],
   "source": [
    "conn = psycopg2.connect(\"dbname=nhl_db\")\n",
    "cur = conn.cursor()"
   ]
  },
  {
   "cell_type": "code",
   "execution_count": 3,
   "id": "8ca8cab5",
   "metadata": {},
   "outputs": [],
   "source": [
    "cur.execute(\"\"\"\n",
    "    SELECT\n",
    "        team,\n",
    "        season,\n",
    "        game_date,\n",
    "        win,\n",
    "        loss,\n",
    "        ot_loss,\n",
    "        goals_for,\n",
    "        goals_against\n",
    "    FROM summary\n",
    "    WHERE playoffs = FALSE\n",
    "    AND season >= '2012/13'\n",
    "\"\"\")"
   ]
  },
  {
   "cell_type": "code",
   "execution_count": 4,
   "id": "86c0834c",
   "metadata": {},
   "outputs": [],
   "source": [
    "df = pd.DataFrame(data=cur.fetchall(), columns=[\"team\", \"season\", \"date\", \"wins\", \"losses\", \"ot_losses\", \"goals_for\", \"goals_against\"])"
   ]
  },
  {
   "cell_type": "code",
   "execution_count": 5,
   "id": "9360e534",
   "metadata": {},
   "outputs": [
    {
     "data": {
      "text/html": [
       "<div>\n",
       "<style scoped>\n",
       "    .dataframe tbody tr th:only-of-type {\n",
       "        vertical-align: middle;\n",
       "    }\n",
       "\n",
       "    .dataframe tbody tr th {\n",
       "        vertical-align: top;\n",
       "    }\n",
       "\n",
       "    .dataframe thead th {\n",
       "        text-align: right;\n",
       "    }\n",
       "</style>\n",
       "<table border=\"1\" class=\"dataframe\">\n",
       "  <thead>\n",
       "    <tr style=\"text-align: right;\">\n",
       "      <th></th>\n",
       "      <th>team</th>\n",
       "      <th>season</th>\n",
       "      <th>date</th>\n",
       "      <th>wins</th>\n",
       "      <th>losses</th>\n",
       "      <th>ot_losses</th>\n",
       "      <th>goals_for</th>\n",
       "      <th>goals_against</th>\n",
       "    </tr>\n",
       "  </thead>\n",
       "  <tbody>\n",
       "    <tr>\n",
       "      <th>0</th>\n",
       "      <td>BOS</td>\n",
       "      <td>2021/22</td>\n",
       "      <td>2022-03-12</td>\n",
       "      <td>1</td>\n",
       "      <td>0</td>\n",
       "      <td>0</td>\n",
       "      <td>3</td>\n",
       "      <td>2</td>\n",
       "    </tr>\n",
       "    <tr>\n",
       "      <th>1</th>\n",
       "      <td>BOS</td>\n",
       "      <td>2021/22</td>\n",
       "      <td>2022-01-08</td>\n",
       "      <td>1</td>\n",
       "      <td>0</td>\n",
       "      <td>0</td>\n",
       "      <td>5</td>\n",
       "      <td>2</td>\n",
       "    </tr>\n",
       "    <tr>\n",
       "      <th>2</th>\n",
       "      <td>OTT</td>\n",
       "      <td>2021/22</td>\n",
       "      <td>2021-12-11</td>\n",
       "      <td>1</td>\n",
       "      <td>0</td>\n",
       "      <td>0</td>\n",
       "      <td>4</td>\n",
       "      <td>0</td>\n",
       "    </tr>\n",
       "    <tr>\n",
       "      <th>3</th>\n",
       "      <td>OTT</td>\n",
       "      <td>2021/22</td>\n",
       "      <td>2022-04-29</td>\n",
       "      <td>1</td>\n",
       "      <td>0</td>\n",
       "      <td>0</td>\n",
       "      <td>4</td>\n",
       "      <td>2</td>\n",
       "    </tr>\n",
       "    <tr>\n",
       "      <th>4</th>\n",
       "      <td>OTT</td>\n",
       "      <td>2021/22</td>\n",
       "      <td>2021-10-29</td>\n",
       "      <td>1</td>\n",
       "      <td>0</td>\n",
       "      <td>0</td>\n",
       "      <td>4</td>\n",
       "      <td>1</td>\n",
       "    </tr>\n",
       "  </tbody>\n",
       "</table>\n",
       "</div>"
      ],
      "text/plain": [
       "  team   season        date  wins  losses  ot_losses  goals_for  goals_against\n",
       "0  BOS  2021/22  2022-03-12     1       0          0          3              2\n",
       "1  BOS  2021/22  2022-01-08     1       0          0          5              2\n",
       "2  OTT  2021/22  2021-12-11     1       0          0          4              0\n",
       "3  OTT  2021/22  2022-04-29     1       0          0          4              2\n",
       "4  OTT  2021/22  2021-10-29     1       0          0          4              1"
      ]
     },
     "execution_count": 5,
     "metadata": {},
     "output_type": "execute_result"
    }
   ],
   "source": [
    "df.head()"
   ]
  },
  {
   "cell_type": "code",
   "execution_count": 6,
   "id": "108b642e",
   "metadata": {},
   "outputs": [],
   "source": [
    "conn.close()"
   ]
  },
  {
   "cell_type": "code",
   "execution_count": 7,
   "id": "6a3ed159",
   "metadata": {},
   "outputs": [],
   "source": [
    "season_df = df.groupby([\"team\", \"season\"])[[\"wins\", \"losses\", \"ot_losses\", \"goals_for\", \"goals_against\"]].sum().reset_index()"
   ]
  },
  {
   "cell_type": "code",
   "execution_count": 8,
   "id": "fb9ecec1",
   "metadata": {},
   "outputs": [],
   "source": [
    "season_df[\"games_played\"] = season_df[\"wins\"] + season_df[\"losses\"] + season_df[\"ot_losses\"]\n",
    "season_df[\"losses\"] = season_df[\"losses\"] + season_df[\"ot_losses\"]\n",
    "season_df.drop(\"ot_losses\", axis=1, inplace=True)"
   ]
  },
  {
   "cell_type": "code",
   "execution_count": 9,
   "id": "9c7e15cf",
   "metadata": {},
   "outputs": [],
   "source": [
    "season_df[\"win_pc\"] = season_df[\"wins\"] / season_df[\"games_played\"]"
   ]
  },
  {
   "cell_type": "code",
   "execution_count": 10,
   "id": "bcc41378",
   "metadata": {},
   "outputs": [
    {
     "data": {
      "text/html": [
       "<div>\n",
       "<style scoped>\n",
       "    .dataframe tbody tr th:only-of-type {\n",
       "        vertical-align: middle;\n",
       "    }\n",
       "\n",
       "    .dataframe tbody tr th {\n",
       "        vertical-align: top;\n",
       "    }\n",
       "\n",
       "    .dataframe thead th {\n",
       "        text-align: right;\n",
       "    }\n",
       "</style>\n",
       "<table border=\"1\" class=\"dataframe\">\n",
       "  <thead>\n",
       "    <tr style=\"text-align: right;\">\n",
       "      <th></th>\n",
       "      <th>team</th>\n",
       "      <th>season</th>\n",
       "      <th>wins</th>\n",
       "      <th>losses</th>\n",
       "      <th>goals_for</th>\n",
       "      <th>goals_against</th>\n",
       "      <th>games_played</th>\n",
       "      <th>win_pc</th>\n",
       "    </tr>\n",
       "  </thead>\n",
       "  <tbody>\n",
       "    <tr>\n",
       "      <th>0</th>\n",
       "      <td>ANA</td>\n",
       "      <td>2012/13</td>\n",
       "      <td>30</td>\n",
       "      <td>18</td>\n",
       "      <td>134</td>\n",
       "      <td>115</td>\n",
       "      <td>48</td>\n",
       "      <td>0.625000</td>\n",
       "    </tr>\n",
       "    <tr>\n",
       "      <th>1</th>\n",
       "      <td>ANA</td>\n",
       "      <td>2013/14</td>\n",
       "      <td>54</td>\n",
       "      <td>28</td>\n",
       "      <td>263</td>\n",
       "      <td>203</td>\n",
       "      <td>82</td>\n",
       "      <td>0.658537</td>\n",
       "    </tr>\n",
       "    <tr>\n",
       "      <th>2</th>\n",
       "      <td>ANA</td>\n",
       "      <td>2014/15</td>\n",
       "      <td>51</td>\n",
       "      <td>31</td>\n",
       "      <td>228</td>\n",
       "      <td>221</td>\n",
       "      <td>82</td>\n",
       "      <td>0.621951</td>\n",
       "    </tr>\n",
       "    <tr>\n",
       "      <th>3</th>\n",
       "      <td>ANA</td>\n",
       "      <td>2015/16</td>\n",
       "      <td>46</td>\n",
       "      <td>36</td>\n",
       "      <td>215</td>\n",
       "      <td>188</td>\n",
       "      <td>82</td>\n",
       "      <td>0.560976</td>\n",
       "    </tr>\n",
       "    <tr>\n",
       "      <th>4</th>\n",
       "      <td>ANA</td>\n",
       "      <td>2016/17</td>\n",
       "      <td>46</td>\n",
       "      <td>36</td>\n",
       "      <td>220</td>\n",
       "      <td>197</td>\n",
       "      <td>82</td>\n",
       "      <td>0.560976</td>\n",
       "    </tr>\n",
       "  </tbody>\n",
       "</table>\n",
       "</div>"
      ],
      "text/plain": [
       "  team   season  wins  losses  goals_for  goals_against  games_played  \\\n",
       "0  ANA  2012/13    30      18        134            115            48   \n",
       "1  ANA  2013/14    54      28        263            203            82   \n",
       "2  ANA  2014/15    51      31        228            221            82   \n",
       "3  ANA  2015/16    46      36        215            188            82   \n",
       "4  ANA  2016/17    46      36        220            197            82   \n",
       "\n",
       "     win_pc  \n",
       "0  0.625000  \n",
       "1  0.658537  \n",
       "2  0.621951  \n",
       "3  0.560976  \n",
       "4  0.560976  "
      ]
     },
     "execution_count": 10,
     "metadata": {},
     "output_type": "execute_result"
    }
   ],
   "source": [
    "season_df.head()"
   ]
  },
  {
   "cell_type": "code",
   "execution_count": 11,
   "id": "769ef966",
   "metadata": {},
   "outputs": [],
   "source": [
    "def pythagoreanExpectation(row, alpha=2):\n",
    "    return pow(row.goals_for,alpha) / (pow(row.goals_for,alpha) + pow(row.goals_against,alpha))"
   ]
  },
  {
   "cell_type": "code",
   "execution_count": 12,
   "id": "5d6dcb10",
   "metadata": {},
   "outputs": [],
   "source": [
    "def optimizePythagoreanExpectation(group, column_name):\n",
    "    def f(alpha):\n",
    "        pyth_exp = group.apply(lambda x: pythagoreanExpectation(x, alpha=alpha), axis=1)\n",
    "    \n",
    "        mse = mean_absolute_error(group[\"win_pc\"], pyth_exp)\n",
    "\n",
    "        return mse\n",
    "    \n",
    "    res = minimize(f, x0=2.0)\n",
    "    group[column_name] = res.x[0]\n",
    "\n",
    "    return group"
   ]
  },
  {
   "cell_type": "code",
   "execution_count": 13,
   "id": "45c277e0",
   "metadata": {
    "scrolled": true
   },
   "outputs": [],
   "source": [
    "season_df = season_df.groupby([\"season\"], group_keys=True).apply(lambda x: optimizePythagoreanExpectation(x, \"league_pe_alpha\"))\n",
    "season_df.reset_index(drop = True, inplace = True)"
   ]
  },
  {
   "cell_type": "code",
   "execution_count": 14,
   "id": "24befe9e",
   "metadata": {},
   "outputs": [],
   "source": [
    "season_df = season_df.groupby([\"season\", \"team\"], group_keys=True).apply(lambda x: optimizePythagoreanExpectation(x, \"team_pe_alpha\"))\n",
    "season_df.reset_index(drop = True, inplace = True)"
   ]
  },
  {
   "cell_type": "code",
   "execution_count": 15,
   "id": "488be906",
   "metadata": {},
   "outputs": [
    {
     "data": {
      "text/html": [
       "<div>\n",
       "<style scoped>\n",
       "    .dataframe tbody tr th:only-of-type {\n",
       "        vertical-align: middle;\n",
       "    }\n",
       "\n",
       "    .dataframe tbody tr th {\n",
       "        vertical-align: top;\n",
       "    }\n",
       "\n",
       "    .dataframe thead th {\n",
       "        text-align: right;\n",
       "    }\n",
       "</style>\n",
       "<table border=\"1\" class=\"dataframe\">\n",
       "  <thead>\n",
       "    <tr style=\"text-align: right;\">\n",
       "      <th></th>\n",
       "      <th>team</th>\n",
       "      <th>season</th>\n",
       "      <th>wins</th>\n",
       "      <th>losses</th>\n",
       "      <th>goals_for</th>\n",
       "      <th>goals_against</th>\n",
       "      <th>games_played</th>\n",
       "      <th>win_pc</th>\n",
       "      <th>league_pe_alpha</th>\n",
       "      <th>team_pe_alpha</th>\n",
       "    </tr>\n",
       "  </thead>\n",
       "  <tbody>\n",
       "    <tr>\n",
       "      <th>0</th>\n",
       "      <td>ANA</td>\n",
       "      <td>2012/13</td>\n",
       "      <td>30</td>\n",
       "      <td>18</td>\n",
       "      <td>134</td>\n",
       "      <td>115</td>\n",
       "      <td>48</td>\n",
       "      <td>0.625000</td>\n",
       "      <td>2.07064</td>\n",
       "      <td>3.340746</td>\n",
       "    </tr>\n",
       "    <tr>\n",
       "      <th>1</th>\n",
       "      <td>ARI</td>\n",
       "      <td>2012/13</td>\n",
       "      <td>21</td>\n",
       "      <td>27</td>\n",
       "      <td>121</td>\n",
       "      <td>125</td>\n",
       "      <td>48</td>\n",
       "      <td>0.437500</td>\n",
       "      <td>2.07064</td>\n",
       "      <td>7.727238</td>\n",
       "    </tr>\n",
       "    <tr>\n",
       "      <th>2</th>\n",
       "      <td>BOS</td>\n",
       "      <td>2012/13</td>\n",
       "      <td>28</td>\n",
       "      <td>20</td>\n",
       "      <td>127</td>\n",
       "      <td>106</td>\n",
       "      <td>48</td>\n",
       "      <td>0.583333</td>\n",
       "      <td>2.07064</td>\n",
       "      <td>1.861554</td>\n",
       "    </tr>\n",
       "    <tr>\n",
       "      <th>3</th>\n",
       "      <td>BUF</td>\n",
       "      <td>2012/13</td>\n",
       "      <td>21</td>\n",
       "      <td>27</td>\n",
       "      <td>118</td>\n",
       "      <td>139</td>\n",
       "      <td>48</td>\n",
       "      <td>0.437500</td>\n",
       "      <td>2.07064</td>\n",
       "      <td>1.534376</td>\n",
       "    </tr>\n",
       "    <tr>\n",
       "      <th>4</th>\n",
       "      <td>CAR</td>\n",
       "      <td>2012/13</td>\n",
       "      <td>19</td>\n",
       "      <td>29</td>\n",
       "      <td>127</td>\n",
       "      <td>159</td>\n",
       "      <td>48</td>\n",
       "      <td>0.395833</td>\n",
       "      <td>2.07064</td>\n",
       "      <td>1.881730</td>\n",
       "    </tr>\n",
       "  </tbody>\n",
       "</table>\n",
       "</div>"
      ],
      "text/plain": [
       "  team   season  wins  losses  goals_for  goals_against  games_played  \\\n",
       "0  ANA  2012/13    30      18        134            115            48   \n",
       "1  ARI  2012/13    21      27        121            125            48   \n",
       "2  BOS  2012/13    28      20        127            106            48   \n",
       "3  BUF  2012/13    21      27        118            139            48   \n",
       "4  CAR  2012/13    19      29        127            159            48   \n",
       "\n",
       "     win_pc  league_pe_alpha  team_pe_alpha  \n",
       "0  0.625000          2.07064       3.340746  \n",
       "1  0.437500          2.07064       7.727238  \n",
       "2  0.583333          2.07064       1.861554  \n",
       "3  0.437500          2.07064       1.534376  \n",
       "4  0.395833          2.07064       1.881730  "
      ]
     },
     "execution_count": 15,
     "metadata": {},
     "output_type": "execute_result"
    }
   ],
   "source": [
    "season_df.head()"
   ]
  },
  {
   "cell_type": "code",
   "execution_count": 16,
   "id": "1c404618",
   "metadata": {},
   "outputs": [],
   "source": [
    "seasons = season_df.season.unique()\n",
    "teams = season_df.team.unique()"
   ]
  },
  {
   "cell_type": "code",
   "execution_count": 17,
   "id": "de969081",
   "metadata": {},
   "outputs": [],
   "source": [
    "# # plot\n",
    "# fig, ax = plt.subplots(figsize=(10,6))\n",
    "\n",
    "# # ax.set_title(\"Optimized alpha values by season\")\n",
    "# ax.set_xlabel(\"Season\")\n",
    "# ax.set_ylabel(\"Alpha\")\n",
    "\n",
    "# fig.suptitle('Optimized alpha values by season')\n",
    "# fig.autofmt_xdate()\n",
    "\n",
    "# for team in teams:\n",
    "#     team_df = season_df.loc[season_df.team == team, :]\n",
    "#     ax.plot(team_df[\"season\"].unique(), team_df[\"team_pe_alpha\"].unique(), linewidth=1.0, alpha=0.2)\n",
    "    \n",
    "# ax.plot(season_df[\"season\"].unique(), season_df[\"league_pe_alpha\"].unique(), linewidth=2.0)"
   ]
  },
  {
   "cell_type": "code",
   "execution_count": 45,
   "id": "29ecd859",
   "metadata": {},
   "outputs": [
    {
     "data": {
      "image/png": "[encoded data removed]",
      "text/plain": [
       "<Figure size 1000x600 with 1 Axes>"
      ]
     },
     "metadata": {},
     "output_type": "display_data"
    }
   ],
   "source": [
    "# plot\n",
    "fig, ax = plt.subplots(figsize=(10, 6))\n",
    "\n",
    "ax.set_title(\"Optimal Alpha Exponents by Season\")\n",
    "ax.set_xlabel(\"Season\")\n",
    "ax.set_ylabel(\"Alpha\")\n",
    "ax.set_ylim([1.5, 3.0])\n",
    "fig.autofmt_xdate()\n",
    "\n",
    "ax.plot(season_df[\"season\"].unique(), season_df[\"league_pe_alpha\"].unique(), 'o-', linewidth=2.0, color=\"black\")\n",
    "ax.axhline(season_df.league_pe_alpha.mean(), alpha=.5, c=\"black\", linestyle='--')\n",
    "ax.text(-0.5,1.01*season_df.league_pe_alpha.mean(), f\"average: {round(season_df.league_pe_alpha.mean(),2)}\")\n",
    "\n",
    "plt.show()"
   ]
  },
  {
   "cell_type": "code",
   "execution_count": null,
   "id": "5bd14f82",
   "metadata": {},
   "outputs": [],
   "source": []
  },
  {
   "cell_type": "code",
   "execution_count": null,
   "id": "9bb8c4f9",
   "metadata": {},
   "outputs": [],
   "source": []
  }
 ],
 "metadata": {
  "kernelspec": {
   "display_name": "Python 3 (ipykernel)",
   "language": "python",
   "name": "python3"
  },
  "language_info": {
   "codemirror_mode": {
    "name": "ipython",
    "version": 3
   },
   "file_extension": ".py",
   "mimetype": "text/x-python",
   "name": "python",
   "nbconvert_exporter": "python",
   "pygments_lexer": "ipython3",
   "version": "3.10.6"
  }
 },
 "nbformat": 4,
 "nbformat_minor": 5
}
