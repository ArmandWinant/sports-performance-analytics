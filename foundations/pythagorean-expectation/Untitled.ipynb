{
 "cells": [
  {
   "cell_type": "markdown",
   "id": "8fefde6f",
   "metadata": {},
   "source": [
    "# Pythagorean Expectation in the NHL\n",
    "### Abstract\n",
    "> In this project, I use the Pythagorean Expectation to investigate how goals scored by an NHL team and its opponents over a season can predict the team's success rate (as measured by winning percentage).\n",
    "Using a combination of metrics and visualisations, I assess the predictive power of the Pythagorean Expectation, before trying my hand at optimizing the formula based on mean squared error.\n",
    "\n",
    "## Introduction\n",
    "In 1977, baseball analyst Bill James exposed his formula for relating a team’s win percentage to total runs scored and allowed:\n",
    "\n",
    "$$ win\\ percentage \\approx {100}\\ *\\ \\frac{(runs\\ scored)^2}{(runs\\ scored)^2 + (runs\\ allowed)^2}\\ $$\n",
    "\n",
    "Simply put, teams that accumulated larger positive run differentials during a span of games were expected to have won a higher percentage of them (and vice versa). The formula was dubbed the Pythagorean Expectation for its resemblance to the well-known geometry theorem.\n",
    "<br />\n",
    "<br />\n",
    "In many cases, the formula’s output has proven to be a better predictor of teams’ future success than current win percentage. Teams that significantly under- or outperformed the expected rate in the early part of a given season, presumably due to the randomness associated with the outcome of close games, tended to regress to the predicted win rate in the end.\n",
    "<br />\n",
    "\n",
    "Due to its simplicity and predictive potency, Pythagorean Expectation has been co-opted and adapted to other score-based team sports. Amendments to the original formula have mostly revolved around tinkering with the exponent value so as to minimize the model's error margin (Bill James himself suggested using a value of 1.82 for improved accuracy). Perhaps most notably, NBA executive presented his \"Modified Pythagorean Expectation\" in 1994, using an exponent of 16.5.\n",
    "\n",
    "Prior to any optimization efforts, the Pythagorean Expectation can be formulated as follows:\n",
    "\n",
    "$$ Pythagorean\\ expectation = {100}\\ *\\ \\frac{(points\\ scored)^\\alpha}{(points\\ scored)^\\alpha + (points\\ allowed)^\\alpha}\\ $$\n",
    "<br />\n",
    "My objective us to use the latest NHL data to assess how to the Pythagorean Expectation fares with hockey, and to propose a value of alpha that optimizes the model's predictive power.<br />\n",
    "Using basic visualizations, I investigate the \n",
    "\n",
    "## Data\n",
    "### Sourcing\n",
    "The Pythagorean Expectation has permeated sports analytics in large part thanks to how few and transferable its input variables are. For our purposes, baseball runs can obviously be equated to hockey goals, and until further notice, a win is a win no matter the game played.\n",
    "\n",
    "I scraped the wins and goals data for the past 10 NHL seasons (starting 2012/13) directly from the league's official website.\n",
    "\n",
    "<!-- ![Tux, the Linux mascot](img/raw_data.png) -->\n",
    "\n",
    "<img src=\"img/raw_data.png\" alt=\"drawing\" width=\"600\"/>\n",
    "\n",
    "### Overtime losses\n",
    "The NHL has a particularity that adds a small wrinkle to the analysis: standings within a season rely on a points system rather the win percentage. The point system works as follows:\n",
    "- a win is worth 2 points\n",
    "- an overtime/shootout loss is worth 1 point\n",
    "- a regulation loss is worth 0 points\n",
    "\n",
    "To reflect this ranking system when computing win percentage, I treat overtime losses as 'half-wins', leading to the following metric:\n",
    "\n",
    "$$ win\\ percentage = \\frac{wins + 0.5*overtime\\ losses}{wins + overtime\\ losses + regulation\\ losses} $$\n",
    "\n",
    "### Subsampling\n",
    "I decided to focus on a subset of teams that should provide interesting study cases. My rationale for each pick is a fallows:\n",
    "\n",
    "1. __Colorado Avalanche:__ the defending Stanley Cup champions\n",
    "2. __Tampa Bay Lightning:__ arguably the most succesful team in recent year\n",
    "3. __Toronto Maple Leafs:__ a team returning to prominance, led by superstar Auston Matthews\n",
    "3. __Montreal Canadians:__ a personal choice, and a team on the decline\n",
    "4. __Ottawa Senator:__ a franchise that has struggled to overcome its small-market status\n",
    "5. __Buffalo Sabres:__ with all due respect, the NHL's perennial bottom-feeder"
   ]
  },
  {
   "cell_type": "markdown",
   "id": "a4caec15",
   "metadata": {},
   "source": [
    "## Exploratory Data Analysis\n",
    "### Winning Percentage\n",
    "Ultimately, the Pythagorean Expectation was created as a model for winning percentage. Before delving into the analytics, I want to gain an overview of how the target variable is distributed.\n",
    "\n",
    "The above graphs also provide some substance for my choice of team to focus on.\n",
    "The lines clearly show Tampa Bay's run of sustained success (TBL), the rise of Colorado (COL) and Toronto (TOR), Montreal's declining season-to-season record (MTL), and the continued struggle of Ottawa (OTT) and Buffalo (BUF)\n",
    "\n",
    "### Goals Scored vs. Allows\n",
    "\n",
    "### Input Synergies\n",
    "*The team that scores more points that the other wins the game.*\n",
    "\n",
    "Sound simple enough, right? Unfortunately the relationship between points scored and wins quickly becomes murky when looked at over the span of multiple games."
   ]
  },
  {
   "cell_type": "code",
   "execution_count": null,
   "id": "a116213e",
   "metadata": {},
   "outputs": [],
   "source": []
  }
 ],
 "metadata": {
  "kernelspec": {
   "display_name": "Python 3 (ipykernel)",
   "language": "python",
   "name": "python3"
  },
  "language_info": {
   "codemirror_mode": {
    "name": "ipython",
    "version": 3
   },
   "file_extension": ".py",
   "mimetype": "text/x-python",
   "name": "python",
   "nbconvert_exporter": "python",
   "pygments_lexer": "ipython3",
   "version": "3.10.6"
  }
 },
 "nbformat": 4,
 "nbformat_minor": 5
}
